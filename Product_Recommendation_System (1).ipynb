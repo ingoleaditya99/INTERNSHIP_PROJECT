{
  "cells": [
    {
      "cell_type": "code",
      "execution_count": null,
      "metadata": {
        "id": "00QDUiCy7CiK"
      },
      "outputs": [],
      "source": [
        "import requests\n",
        "import pandas as pd\n",
        "from sklearn.metrics.pairwise import cosine_similarity\n",
        "import numpy as np\n",
        "import tensorflow as tf\n",
        "from tensorflow.keras.preprocessing.text import Tokenizer\n",
        "from tensorflow.keras.preprocessing.sequence import pad_sequences\n",
        "from tensorflow.keras.models import Model\n",
        "from tensorflow.keras.layers import Input, Embedding, GlobalAveragePooling1D"
      ]
    },
    {
      "cell_type": "code",
      "execution_count": null,
      "metadata": {
        "colab": {
          "base_uri": "https://localhost:8080/"
        },
        "id": "3NxCxlyC7Inj",
        "outputId": "62e4af2e-94ce-4d1c-ed01-4a460f69b981"
      },
      "outputs": [
        {
          "output_type": "stream",
          "name": "stdout",
          "text": [
            "Fetching data from Fake Store API...\n",
            "Successfully fetched 20 products.\n"
          ]
        }
      ],
      "source": [
        "# --- 1. Data Fetching ---\n",
        "# Fetch product data from the Fake Store API.\n",
        "try:\n",
        "    print(\"Fetching data from Fake Store API...\")\n",
        "    response = requests.get('https://fakestoreapi.com/products')\n",
        "    response.raise_for_status()  # Raise an exception for bad status codes (4xx or 5xx)\n",
        "    products_data = response.json()\n",
        "    print(f\"Successfully fetched {len(products_data)} products.\")\n",
        "except requests.exceptions.RequestException as e:\n",
        "    print(f\"Error fetching data: {e}\")\n",
        "    products_data = []\n",
        "\n",
        "# Convert the JSON data to a pandas DataFrame for easier manipulation.\n",
        "if products_data:\n",
        "    products_df = pd.DataFrame(products_data)\n",
        "else:\n",
        "    print(\"No data fetched, creating an empty DataFrame.\")\n",
        "    products_df = pd.DataFrame()"
      ]
    },
    {
      "cell_type": "code",
      "source": [
        "# Basic dataset checks\n",
        "if 'products_df' in locals():\n",
        "    print(\"DataFrame loaded successfully ✅\\n\")\n",
        "    print(\"Shape (rows, cols):\", products_df.shape)\n",
        "    print(\"\\nColumn list:\", products_df.columns.tolist())\n",
        "    print(\"\\nMissing values per column:\\n\", products_df.isnull().sum())\n",
        "    print(\"\\nData types:\\n\", products_df.dtypes)\n",
        "    print(\"\\nSample rows:\\n\", products_df.head(8))\n",
        "else:\n",
        "    print(\"products_df not found in memory ❌\")\n"
      ],
      "metadata": {
        "colab": {
          "base_uri": "https://localhost:8080/"
        },
        "id": "vRMcj8scJdld",
        "outputId": "028c5834-3bdb-4115-f069-3d29a689d4e4"
      },
      "execution_count": null,
      "outputs": [
        {
          "output_type": "stream",
          "name": "stdout",
          "text": [
            "DataFrame loaded successfully ✅\n",
            "\n",
            "Shape (rows, cols): (20, 7)\n",
            "\n",
            "Column list: ['id', 'title', 'price', 'description', 'category', 'image', 'rating']\n",
            "\n",
            "Missing values per column:\n",
            " id             0\n",
            "title          0\n",
            "price          0\n",
            "description    0\n",
            "category       0\n",
            "image          0\n",
            "rating         0\n",
            "dtype: int64\n",
            "\n",
            "Data types:\n",
            " id               int64\n",
            "title           object\n",
            "price          float64\n",
            "description     object\n",
            "category        object\n",
            "image           object\n",
            "rating          object\n",
            "dtype: object\n",
            "\n",
            "Sample rows:\n",
            "    id                                              title   price  \\\n",
            "0   1  Fjallraven - Foldsack No. 1 Backpack, Fits 15 ...  109.95   \n",
            "1   2             Mens Casual Premium Slim Fit T-Shirts    22.30   \n",
            "2   3                                 Mens Cotton Jacket   55.99   \n",
            "3   4                               Mens Casual Slim Fit   15.99   \n",
            "4   5  John Hardy Women's Legends Naga Gold & Silver ...  695.00   \n",
            "5   6                       Solid Gold Petite Micropave   168.00   \n",
            "6   7                         White Gold Plated Princess    9.99   \n",
            "7   8  Pierced Owl Rose Gold Plated Stainless Steel D...   10.99   \n",
            "\n",
            "                                         description        category  \\\n",
            "0  Your perfect pack for everyday use and walks i...  men's clothing   \n",
            "1  Slim-fitting style, contrast raglan long sleev...  men's clothing   \n",
            "2  great outerwear jackets for Spring/Autumn/Wint...  men's clothing   \n",
            "3  The color could be slightly different between ...  men's clothing   \n",
            "4  From our Legends Collection, the Naga was insp...        jewelery   \n",
            "5  Satisfaction Guaranteed. Return or exchange an...        jewelery   \n",
            "6  Classic Created Wedding Engagement Solitaire D...        jewelery   \n",
            "7  Rose Gold Plated Double Flared Tunnel Plug Ear...        jewelery   \n",
            "\n",
            "                                               image  \\\n",
            "0  https://fakestoreapi.com/img/81fPKd-2AYL._AC_S...   \n",
            "1  https://fakestoreapi.com/img/71-3HjGNDUL._AC_S...   \n",
            "2  https://fakestoreapi.com/img/71li-ujtlUL._AC_U...   \n",
            "3  https://fakestoreapi.com/img/71YXzeOuslL._AC_U...   \n",
            "4  https://fakestoreapi.com/img/71pWzhdJNwL._AC_U...   \n",
            "5  https://fakestoreapi.com/img/61sbMiUnoGL._AC_U...   \n",
            "6  https://fakestoreapi.com/img/71YAIFU48IL._AC_U...   \n",
            "7  https://fakestoreapi.com/img/51UDEzMJVpL._AC_U...   \n",
            "\n",
            "                        rating  \n",
            "0  {'rate': 3.9, 'count': 120}  \n",
            "1  {'rate': 4.1, 'count': 259}  \n",
            "2  {'rate': 4.7, 'count': 500}  \n",
            "3  {'rate': 2.1, 'count': 430}  \n",
            "4  {'rate': 4.6, 'count': 400}  \n",
            "5   {'rate': 3.9, 'count': 70}  \n",
            "6    {'rate': 3, 'count': 400}  \n",
            "7  {'rate': 1.9, 'count': 100}  \n"
          ]
        }
      ]
    },
    {
      "cell_type": "code",
      "execution_count": null,
      "metadata": {
        "colab": {
          "base_uri": "https://localhost:8080/"
        },
        "id": "tnHx4lX07PN5",
        "outputId": "c73596f0-8416-483b-cf9e-e39384bd9acc"
      },
      "outputs": [
        {
          "output_type": "stream",
          "name": "stdout",
          "text": [
            "\n",
            "Sample of the combined text 'soup' for a product:\n",
            "Fjallraven - Foldsack No. 1 Backpack, Fits 15 Laptops Your perfect pack for everyday use and walks in the forest. Stash your laptop (up to 15 inches) in the padded sleeve, your everyday men's clothing\n"
          ]
        }
      ],
      "source": [
        "# --- 2. Data Preprocessing ---\n",
        "if not products_df.empty:\n",
        "    # Fill any missing values in key text fields to avoid errors.\n",
        "    products_df['title'] = products_df['title'].fillna('')\n",
        "    products_df['description'] = products_df['description'].fillna('')\n",
        "    products_df['category'] = products_df['category'].fillna('')\n",
        "\n",
        "    # Combine the relevant text fields into a single string for each product.\n",
        "    products_df['soup'] = products_df['title'] + ' ' + products_df['description'] + ' ' + products_df['category']\n",
        "    print(\"\\nSample of the combined text 'soup' for a product:\")\n",
        "    print(products_df['soup'].head(1).values[0])\n"
      ]
    },
    {
      "cell_type": "code",
      "source": [
        "import matplotlib.pyplot as plt\n",
        "import seaborn as sns\n",
        "\n",
        "# Category distribution\n",
        "if 'category' in products_df.columns:\n",
        "    plt.figure(figsize=(10,5))\n",
        "    sns.countplot(data=products_df, x='category', order=products_df['category'].value_counts().index)\n",
        "    plt.xticks(rotation=45)\n",
        "    plt.title(\"Category Distribution\")\n",
        "    plt.show()\n",
        "\n",
        "# Price distribution\n",
        "if 'price' in products_df.columns:\n",
        "    plt.figure(figsize=(8,5))\n",
        "    sns.histplot(products_df['price'].dropna(), bins=30, kde=True)\n",
        "    plt.title(\"Price Distribution\")\n",
        "    plt.show()\n",
        "\n",
        "# Rating distribution\n",
        "if 'rating' in products_df.columns and not products_df['rating'].empty:\n",
        "    # Extract the 'rate' from the rating dictionary\n",
        "    products_df['rating_rate'] = products_df['rating'].apply(lambda x: x['rate'] if isinstance(x, dict) and 'rate' in x else None)\n",
        "    plt.figure(figsize=(8,5))\n",
        "    sns.histplot(products_df['rating_rate'].dropna(), bins=20, kde=False)\n",
        "    plt.title(\"Rating Distribution\")\n",
        "    plt.show()\n",
        "\n",
        "# Description length analysis\n",
        "if 'description' in products_df.columns:\n",
        "    products_df['desc_length'] = products_df['description'].astype(str).apply(len)\n",
        "    plt.figure(figsize=(8,5))\n",
        "    sns.histplot(products_df['desc_length'], bins=30, kde=True)\n",
        "    plt.title(\"Description Length Distribution\")\n",
        "    plt.show()\n",
        "\n",
        "    print(\"\\nTop 10 longest descriptions:\")\n",
        "    display(products_df[['title','desc_length','description']].sort_values(by='desc_length', ascending=False).head(10))"
      ],
      "metadata": {
        "colab": {
          "base_uri": "https://localhost:8080/",
          "height": 1926
        },
        "id": "lADzEEKHIB9X",
        "outputId": "ff39c35f-7848-42e4-8022-8800abe273c0"
      },
      "execution_count": null,
      "outputs": [
        {
          "output_type": "display_data",
          "data": {
            "text/plain": [
              "<Figure size 1000x500 with 1 Axes>"
            ],
            "image/png": "[encoded data removed]"
          },
          "metadata": {}
        },
        {
          "output_type": "display_data",
          "data": {
            "text/plain": [
              "<Figure size 800x500 with 1 Axes>"
            ],
            "image/png": "[encoded data removed]"
          },
          "metadata": {}
        },
        {
          "output_type": "display_data",
          "data": {
            "text/plain": [
              "<Figure size 800x500 with 1 Axes>"
            ],
            "image/png": "[encoded data removed]"
          },
          "metadata": {}
        },
        {
          "output_type": "display_data",
          "data": {
            "text/plain": [
              "<Figure size 800x500 with 1 Axes>"
            ],
            "image/png": "[encoded data removed]"
          },
          "metadata": {}
        },
        {
          "output_type": "stream",
          "name": "stdout",
          "text": [
            "\n",
            "Top 10 longest descriptions:\n"
          ]
        },
        {
          "output_type": "display_data",
          "data": {
            "text/plain": [
              "                                                title  desc_length  \\\n",
              "14  BIYLACLESEN Women's 3-in-1 Snowboard Jacket Wi...          772   \n",
              "9   SanDisk SSD PLUS 1TB Internal SSD - SATA III 6...          495   \n",
              "10  Silicon Power 256GB SSD 3D NAND A55 SLC Cache ...          457   \n",
              "12  Acer SB220Q bi 21.5 inches Full HD (1920 x 108...          420   \n",
              "16  Rain Jacket Women Windbreaker Striped Climbing...          398   \n",
              "18                 Opna Women's Short Sleeve Moisture          347   \n",
              "1              Mens Casual Premium Slim Fit T-Shirts           338   \n",
              "13  Samsung 49-Inch CHG90 144Hz Curved Gaming Moni...          336   \n",
              "2                                  Mens Cotton Jacket          307   \n",
              "15  Lock and Love Women's Removable Hooded Faux Le...          307   \n",
              "\n",
              "                                          description  \n",
              "14  Note:The Jackets is US standard size, Please c...  \n",
              "9   Easy upgrade for faster boot up, shutdown, app...  \n",
              "10  3D NAND flash are applied to deliver high tran...  \n",
              "12  21. 5 inches Full HD (1920 x 1080) widescreen ...  \n",
              "16  Lightweight perfet for trip or casual wear---L...  \n",
              "18  100% Polyester, Machine wash, 100% cationic po...  \n",
              "1   Slim-fitting style, contrast raglan long sleev...  \n",
              "13  49 INCH SUPER ULTRAWIDE 32:9 CURVED GAMING MON...  \n",
              "2   great outerwear jackets for Spring/Autumn/Wint...  \n",
              "15  100% POLYURETHANE(shell) 100% POLYESTER(lining...  "
            ],
            "text/html": [
              "\n",
              "  <div id=\"df-6bfdb1f1-ca24-44cd-a829-492468530f29\" class=\"colab-df-container\">\n",
              "    <div>\n",
              "<style scoped>\n",
              "    .dataframe tbody tr th:only-of-type {\n",
              "        vertical-align: middle;\n",
              "    }\n",
              "\n",
              "    .dataframe tbody tr th {\n",
              "        vertical-align: top;\n",
              "    }\n",
              "\n",
              "    .dataframe thead th {\n",
              "        text-align: right;\n",
              "    }\n",
              "</style>\n",
              "<table border=\"1\" class=\"dataframe\">\n",
              "  <thead>\n",
              "    <tr style=\"text-align: right;\">\n",
              "      <th></th>\n",
              "      <th>title</th>\n",
              "      <th>desc_length</th>\n",
              "      <th>description</th>\n",
              "    </tr>\n",
              "  </thead>\n",
              "  <tbody>\n",
              "    <tr>\n",
              "      <th>14</th>\n",
              "      <td>BIYLACLESEN Women's 3-in-1 Snowboard Jacket Wi...</td>\n",
              "      <td>772</td>\n",
              "      <td>Note:The Jackets is US standard size, Please c...</td>\n",
              "    </tr>\n",
              "    <tr>\n",
              "      <th>9</th>\n",
              "      <td>SanDisk SSD PLUS 1TB Internal SSD - SATA III 6...</td>\n",
              "      <td>495</td>\n",
              "      <td>Easy upgrade for faster boot up, shutdown, app...</td>\n",
              "    </tr>\n",
              "    <tr>\n",
              "      <th>10</th>\n",
              "      <td>Silicon Power 256GB SSD 3D NAND A55 SLC Cache ...</td>\n",
              "      <td>457</td>\n",
              "      <td>3D NAND flash are applied to deliver high tran...</td>\n",
              "    </tr>\n",
              "    <tr>\n",
              "      <th>12</th>\n",
              "      <td>Acer SB220Q bi 21.5 inches Full HD (1920 x 108...</td>\n",
              "      <td>420</td>\n",
              "      <td>21. 5 inches Full HD (1920 x 1080) widescreen ...</td>\n",
              "    </tr>\n",
              "    <tr>\n",
              "      <th>16</th>\n",
              "      <td>Rain Jacket Women Windbreaker Striped Climbing...</td>\n",
              "      <td>398</td>\n",
              "      <td>Lightweight perfet for trip or casual wear---L...</td>\n",
              "    </tr>\n",
              "    <tr>\n",
              "      <th>18</th>\n",
              "      <td>Opna Women's Short Sleeve Moisture</td>\n",
              "      <td>347</td>\n",
              "      <td>100% Polyester, Machine wash, 100% cationic po...</td>\n",
              "    </tr>\n",
              "    <tr>\n",
              "      <th>1</th>\n",
              "      <td>Mens Casual Premium Slim Fit T-Shirts</td>\n",
              "      <td>338</td>\n",
              "      <td>Slim-fitting style, contrast raglan long sleev...</td>\n",
              "    </tr>\n",
              "    <tr>\n",
              "      <th>13</th>\n",
              "      <td>Samsung 49-Inch CHG90 144Hz Curved Gaming Moni...</td>\n",
              "      <td>336</td>\n",
              "      <td>49 INCH SUPER ULTRAWIDE 32:9 CURVED GAMING MON...</td>\n",
              "    </tr>\n",
              "    <tr>\n",
              "      <th>2</th>\n",
              "      <td>Mens Cotton Jacket</td>\n",
              "      <td>307</td>\n",
              "      <td>great outerwear jackets for Spring/Autumn/Wint...</td>\n",
              "    </tr>\n",
              "    <tr>\n",
              "      <th>15</th>\n",
              "      <td>Lock and Love Women's Removable Hooded Faux Le...</td>\n",
              "      <td>307</td>\n",
              "      <td>100% POLYURETHANE(shell) 100% POLYESTER(lining...</td>\n",
              "    </tr>\n",
              "  </tbody>\n",
              "</table>\n",
              "</div>\n",
              "    <div class=\"colab-df-buttons\">\n",
              "\n",
              "  <div class=\"colab-df-container\">\n",
              "    <button class=\"colab-df-convert\" onclick=\"convertToInteractive('df-6bfdb1f1-ca24-44cd-a829-492468530f29')\"\n",
              "            title=\"Convert this dataframe to an interactive table.\"\n",
              "            style=\"display:none;\">\n",
              "\n",
              "  <svg xmlns=\"http://www.w3.org/2000/svg\" height=\"24px\" viewBox=\"0 -960 960 960\">\n",
              "    <path d=\"M120-120v-720h720v720H120Zm60-500h600v-160H180v160Zm220 220h160v-160H400v160Zm0 220h160v-160H400v160ZM180-400h160v-160H180v160Zm440 0h160v-160H620v160ZM180-180h160v-160H180v160Zm440 0h160v-160H620v160Z\"/>\n",
              "  </svg>\n",
              "    </button>\n",
              "\n",
              "  <style>\n",
              "    .colab-df-container {\n",
              "      display:flex;\n",
              "      gap: 12px;\n",
              "    }\n",
              "\n",
              "    .colab-df-convert {\n",
              "      background-color: #E8F0FE;\n",
              "      border: none;\n",
              "      border-radius: 50%;\n",
              "      cursor: pointer;\n",
              "      display: none;\n",
              "      fill: #1967D2;\n",
              "      height: 32px;\n",
              "      padding: 0 0 0 0;\n",
              "      width: 32px;\n",
              "    }\n",
              "\n",
              "    .colab-df-convert:hover {\n",
              "      background-color: #E2EBFA;\n",
              "      box-shadow: 0px 1px 2px rgba(60, 64, 67, 0.3), 0px 1px 3px 1px rgba(60, 64, 67, 0.15);\n",
              "      fill: #174EA6;\n",
              "    }\n",
              "\n",
              "    .colab-df-buttons div {\n",
              "      margin-bottom: 4px;\n",
              "    }\n",
              "\n",
              "    [theme=dark] .colab-df-convert {\n",
              "      background-color: #3B4455;\n",
              "      fill: #D2E3FC;\n",
              "    }\n",
              "\n",
              "    [theme=dark] .colab-df-convert:hover {\n",
              "      background-color: #434B5C;\n",
              "      box-shadow: 0px 1px 3px 1px rgba(0, 0, 0, 0.15);\n",
              "      filter: drop-shadow(0px 1px 2px rgba(0, 0, 0, 0.3));\n",
              "      fill: #FFFFFF;\n",
              "    }\n",
              "  </style>\n",
              "\n",
              "    <script>\n",
              "      const buttonEl =\n",
              "        document.querySelector('#df-6bfdb1f1-ca24-44cd-a829-492468530f29 button.colab-df-convert');\n",
              "      buttonEl.style.display =\n",
              "        google.colab.kernel.accessAllowed ? 'block' : 'none';\n",
              "\n",
              "      async function convertToInteractive(key) {\n",
              "        const element = document.querySelector('#df-6bfdb1f1-ca24-44cd-a829-492468530f29');\n",
              "        const dataTable =\n",
              "          await google.colab.kernel.invokeFunction('convertToInteractive',\n",
              "                                                    [key], {});\n",
              "        if (!dataTable) return;\n",
              "\n",
              "        const docLinkHtml = 'Like what you see? Visit the ' +\n",
              "          '<a target=\"_blank\" href=https://colab.research.google.com/notebooks/data_table.ipynb>data table notebook</a>'\n",
              "          + ' to learn more about interactive tables.';\n",
              "        element.innerHTML = '';\n",
              "        dataTable['output_type'] = 'display_data';\n",
              "        await google.colab.output.renderOutput(dataTable, element);\n",
              "        const docLink = document.createElement('div');\n",
              "        docLink.innerHTML = docLinkHtml;\n",
              "        element.appendChild(docLink);\n",
              "      }\n",
              "    </script>\n",
              "  </div>\n",
              "\n",
              "\n",
              "    <div id=\"df-e1dd849a-6a22-432d-9ebe-03e5b775f890\">\n",
              "      <button class=\"colab-df-quickchart\" onclick=\"quickchart('df-e1dd849a-6a22-432d-9ebe-03e5b775f890')\"\n",
              "                title=\"Suggest charts\"\n",
              "                style=\"display:none;\">\n",
              "\n",
              "<svg xmlns=\"http://www.w3.org/2000/svg\" height=\"24px\"viewBox=\"0 0 24 24\"\n",
              "     width=\"24px\">\n",
              "    <g>\n",
              "        <path d=\"M19 3H5c-1.1 0-2 .9-2 2v14c0 1.1.9 2 2 2h14c1.1 0 2-.9 2-2V5c0-1.1-.9-2-2-2zM9 17H7v-7h2v7zm4 0h-2V7h2v10zm4 0h-2v-4h2v4z\"/>\n",
              "    </g>\n",
              "</svg>\n",
              "      </button>\n",
              "\n",
              "<style>\n",
              "  .colab-df-quickchart {\n",
              "      --bg-color: #E8F0FE;\n",
              "      --fill-color: #1967D2;\n",
              "      --hover-bg-color: #E2EBFA;\n",
              "      --hover-fill-color: #174EA6;\n",
              "      --disabled-fill-color: #AAA;\n",
              "      --disabled-bg-color: #DDD;\n",
              "  }\n",
              "\n",
              "  [theme=dark] .colab-df-quickchart {\n",
              "      --bg-color: #3B4455;\n",
              "      --fill-color: #D2E3FC;\n",
              "      --hover-bg-color: #434B5C;\n",
              "      --hover-fill-color: #FFFFFF;\n",
              "      --disabled-bg-color: #3B4455;\n",
              "      --disabled-fill-color: #666;\n",
              "  }\n",
              "\n",
              "  .colab-df-quickchart {\n",
              "    background-color: var(--bg-color);\n",
              "    border: none;\n",
              "    border-radius: 50%;\n",
              "    cursor: pointer;\n",
              "    display: none;\n",
              "    fill: var(--fill-color);\n",
              "    height: 32px;\n",
              "    padding: 0;\n",
              "    width: 32px;\n",
              "  }\n",
              "\n",
              "  .colab-df-quickchart:hover {\n",
              "    background-color: var(--hover-bg-color);\n",
              "    box-shadow: 0 1px 2px rgba(60, 64, 67, 0.3), 0 1px 3px 1px rgba(60, 64, 67, 0.15);\n",
              "    fill: var(--button-hover-fill-color);\n",
              "  }\n",
              "\n",
              "  .colab-df-quickchart-complete:disabled,\n",
              "  .colab-df-quickchart-complete:disabled:hover {\n",
              "    background-color: var(--disabled-bg-color);\n",
              "    fill: var(--disabled-fill-color);\n",
              "    box-shadow: none;\n",
              "  }\n",
              "\n",
              "  .colab-df-spinner {\n",
              "    border: 2px solid var(--fill-color);\n",
              "    border-color: transparent;\n",
              "    border-bottom-color: var(--fill-color);\n",
              "    animation:\n",
              "      spin 1s steps(1) infinite;\n",
              "  }\n",
              "\n",
              "  @keyframes spin {\n",
              "    0% {\n",
              "      border-color: transparent;\n",
              "      border-bottom-color: var(--fill-color);\n",
              "      border-left-color: var(--fill-color);\n",
              "    }\n",
              "    20% {\n",
              "      border-color: transparent;\n",
              "      border-left-color: var(--fill-color);\n",
              "      border-top-color: var(--fill-color);\n",
              "    }\n",
              "    30% {\n",
              "      border-color: transparent;\n",
              "      border-left-color: var(--fill-color);\n",
              "      border-top-color: var(--fill-color);\n",
              "      border-right-color: var(--fill-color);\n",
              "    }\n",
              "    40% {\n",
              "      border-color: transparent;\n",
              "      border-right-color: var(--fill-color);\n",
              "      border-top-color: var(--fill-color);\n",
              "    }\n",
              "    60% {\n",
              "      border-color: transparent;\n",
              "      border-right-color: var(--fill-color);\n",
              "    }\n",
              "    80% {\n",
              "      border-color: transparent;\n",
              "      border-right-color: var(--fill-color);\n",
              "      border-bottom-color: var(--fill-color);\n",
              "    }\n",
              "    90% {\n",
              "      border-color: transparent;\n",
              "      border-bottom-color: var(--fill-color);\n",
              "    }\n",
              "  }\n",
              "</style>\n",
              "\n",
              "      <script>\n",
              "        async function quickchart(key) {\n",
              "          const quickchartButtonEl =\n",
              "            document.querySelector('#' + key + ' button');\n",
              "          quickchartButtonEl.disabled = true;  // To prevent multiple clicks.\n",
              "          quickchartButtonEl.classList.add('colab-df-spinner');\n",
              "          try {\n",
              "            const charts = await google.colab.kernel.invokeFunction(\n",
              "                'suggestCharts', [key], {});\n",
              "          } catch (error) {\n",
              "            console.error('Error during call to suggestCharts:', error);\n",
              "          }\n",
              "          quickchartButtonEl.classList.remove('colab-df-spinner');\n",
              "          quickchartButtonEl.classList.add('colab-df-quickchart-complete');\n",
              "        }\n",
              "        (() => {\n",
              "          let quickchartButtonEl =\n",
              "            document.querySelector('#df-e1dd849a-6a22-432d-9ebe-03e5b775f890 button');\n",
              "          quickchartButtonEl.style.display =\n",
              "            google.colab.kernel.accessAllowed ? 'block' : 'none';\n",
              "        })();\n",
              "      </script>\n",
              "    </div>\n",
              "\n",
              "    </div>\n",
              "  </div>\n"
            ],
            "application/vnd.google.colaboratory.intrinsic+json": {
              "type": "dataframe",
              "summary": "{\n  \"name\": \"    display(products_df[['title','desc_length','description']]\",\n  \"rows\": 10,\n  \"fields\": [\n    {\n      \"column\": \"title\",\n      \"properties\": {\n        \"dtype\": \"string\",\n        \"num_unique_values\": 10,\n        \"samples\": [\n          \"Mens Cotton Jacket\",\n          \"SanDisk SSD PLUS 1TB Internal SSD - SATA III 6 Gb/s\",\n          \"Opna Women's Short Sleeve Moisture\"\n        ],\n        \"semantic_type\": \"\",\n        \"description\": \"\"\n      }\n    },\n    {\n      \"column\": \"desc_length\",\n      \"properties\": {\n        \"dtype\": \"number\",\n        \"std\": 139,\n        \"min\": 307,\n        \"max\": 772,\n        \"num_unique_values\": 9,\n        \"samples\": [\n          336,\n          495,\n          347\n        ],\n        \"semantic_type\": \"\",\n        \"description\": \"\"\n      }\n    },\n    {\n      \"column\": \"description\",\n      \"properties\": {\n        \"dtype\": \"string\",\n        \"num_unique_values\": 10,\n        \"samples\": [\n          \"great outerwear jackets for Spring/Autumn/Winter, suitable for many occasions, such as working, hiking, camping, mountain/rock climbing, cycling, traveling or other outdoors. Good gift choice for you or your family member. A warm hearted love to Father, husband or son in this thanksgiving or Christmas Day.\",\n          \"Easy upgrade for faster boot up, shutdown, application load and response (As compared to 5400 RPM SATA 2.5\\u201d hard drive; Based on published specifications and internal benchmarking tests using PCMark vantage scores) Boosts burst write performance, making it ideal for typical PC workloads The perfect balance of performance and reliability Read/write speeds of up to 535MB/s/450MB/s (Based on internal testing; Performance may vary depending upon drive capacity, host device, OS and application.)\",\n          \"100% Polyester, Machine wash, 100% cationic polyester interlock, Machine Wash & Pre Shrunk for a Great Fit, Lightweight, roomy and highly breathable with moisture wicking fabric which helps to keep moisture away, Soft Lightweight Fabric with comfortable V-neck collar and a slimmer fit, delivers a sleek, more feminine silhouette and Added Comfort\"\n        ],\n        \"semantic_type\": \"\",\n        \"description\": \"\"\n      }\n    }\n  ]\n}"
            }
          },
          "metadata": {}
        }
      ]
    },
    {
      "cell_type": "code",
      "execution_count": null,
      "metadata": {
        "colab": {
          "base_uri": "https://localhost:8080/",
          "height": 449
        },
        "id": "_4VyGcjE7mat",
        "outputId": "e6f32237-03c5-44ed-c090-18fb92171fb1"
      },
      "outputs": [
        {
          "output_type": "stream",
          "name": "stdout",
          "text": [
            "\n",
            "Tokenizing text data...\n",
            "Found 593 unique tokens.\n",
            "Padding sequences...\n",
            "Shape of padded sequences: (20, 100)\n"
          ]
        },
        {
          "output_type": "display_data",
          "data": {
            "text/plain": [
              "\u001b[1mModel: \"functional\"\u001b[0m\n"
            ],
            "text/html": [
              "<pre style=\"white-space:pre;overflow-x:auto;line-height:normal;font-family:Menlo,'DejaVu Sans Mono',consolas,'Courier New',monospace\"><span style=\"font-weight: bold\">Model: \"functional\"</span>\n",
              "</pre>\n"
            ]
          },
          "metadata": {}
        },
        {
          "output_type": "display_data",
          "data": {
            "text/plain": [
              "┏━━━━━━━━━━━━━━━━━━━━━━━━━━━━━━━━━┳━━━━━━━━━━━━━━━━━━━━━━━━┳━━━━━━━━━━━━━━━┓\n",
              "┃\u001b[1m \u001b[0m\u001b[1mLayer (type)                   \u001b[0m\u001b[1m \u001b[0m┃\u001b[1m \u001b[0m\u001b[1mOutput Shape          \u001b[0m\u001b[1m \u001b[0m┃\u001b[1m \u001b[0m\u001b[1m      Param #\u001b[0m\u001b[1m \u001b[0m┃\n",
              "┡━━━━━━━━━━━━━━━━━━━━━━━━━━━━━━━━━╇━━━━━━━━━━━━━━━━━━━━━━━━╇━━━━━━━━━━━━━━━┩\n",
              "│ input_layer (\u001b[38;5;33mInputLayer\u001b[0m)        │ (\u001b[38;5;45mNone\u001b[0m, \u001b[38;5;34m100\u001b[0m)            │             \u001b[38;5;34m0\u001b[0m │\n",
              "├─────────────────────────────────┼────────────────────────┼───────────────┤\n",
              "│ embedding (\u001b[38;5;33mEmbedding\u001b[0m)           │ (\u001b[38;5;45mNone\u001b[0m, \u001b[38;5;34m100\u001b[0m, \u001b[38;5;34m16\u001b[0m)        │         \u001b[38;5;34m9,504\u001b[0m │\n",
              "├─────────────────────────────────┼────────────────────────┼───────────────┤\n",
              "│ global_average_pooling1d        │ (\u001b[38;5;45mNone\u001b[0m, \u001b[38;5;34m16\u001b[0m)             │             \u001b[38;5;34m0\u001b[0m │\n",
              "│ (\u001b[38;5;33mGlobalAveragePooling1D\u001b[0m)        │                        │               │\n",
              "└─────────────────────────────────┴────────────────────────┴───────────────┘\n"
            ],
            "text/html": [
              "<pre style=\"white-space:pre;overflow-x:auto;line-height:normal;font-family:Menlo,'DejaVu Sans Mono',consolas,'Courier New',monospace\">┏━━━━━━━━━━━━━━━━━━━━━━━━━━━━━━━━━┳━━━━━━━━━━━━━━━━━━━━━━━━┳━━━━━━━━━━━━━━━┓\n",
              "┃<span style=\"font-weight: bold\"> Layer (type)                    </span>┃<span style=\"font-weight: bold\"> Output Shape           </span>┃<span style=\"font-weight: bold\">       Param # </span>┃\n",
              "┡━━━━━━━━━━━━━━━━━━━━━━━━━━━━━━━━━╇━━━━━━━━━━━━━━━━━━━━━━━━╇━━━━━━━━━━━━━━━┩\n",
              "│ input_layer (<span style=\"color: #0087ff; text-decoration-color: #0087ff\">InputLayer</span>)        │ (<span style=\"color: #00d7ff; text-decoration-color: #00d7ff\">None</span>, <span style=\"color: #00af00; text-decoration-color: #00af00\">100</span>)            │             <span style=\"color: #00af00; text-decoration-color: #00af00\">0</span> │\n",
              "├─────────────────────────────────┼────────────────────────┼───────────────┤\n",
              "│ embedding (<span style=\"color: #0087ff; text-decoration-color: #0087ff\">Embedding</span>)           │ (<span style=\"color: #00d7ff; text-decoration-color: #00d7ff\">None</span>, <span style=\"color: #00af00; text-decoration-color: #00af00\">100</span>, <span style=\"color: #00af00; text-decoration-color: #00af00\">16</span>)        │         <span style=\"color: #00af00; text-decoration-color: #00af00\">9,504</span> │\n",
              "├─────────────────────────────────┼────────────────────────┼───────────────┤\n",
              "│ global_average_pooling1d        │ (<span style=\"color: #00d7ff; text-decoration-color: #00d7ff\">None</span>, <span style=\"color: #00af00; text-decoration-color: #00af00\">16</span>)             │             <span style=\"color: #00af00; text-decoration-color: #00af00\">0</span> │\n",
              "│ (<span style=\"color: #0087ff; text-decoration-color: #0087ff\">GlobalAveragePooling1D</span>)        │                        │               │\n",
              "└─────────────────────────────────┴────────────────────────┴───────────────┘\n",
              "</pre>\n"
            ]
          },
          "metadata": {}
        },
        {
          "output_type": "display_data",
          "data": {
            "text/plain": [
              "\u001b[1m Total params: \u001b[0m\u001b[38;5;34m9,504\u001b[0m (37.12 KB)\n"
            ],
            "text/html": [
              "<pre style=\"white-space:pre;overflow-x:auto;line-height:normal;font-family:Menlo,'DejaVu Sans Mono',consolas,'Courier New',monospace\"><span style=\"font-weight: bold\"> Total params: </span><span style=\"color: #00af00; text-decoration-color: #00af00\">9,504</span> (37.12 KB)\n",
              "</pre>\n"
            ]
          },
          "metadata": {}
        },
        {
          "output_type": "display_data",
          "data": {
            "text/plain": [
              "\u001b[1m Trainable params: \u001b[0m\u001b[38;5;34m9,504\u001b[0m (37.12 KB)\n"
            ],
            "text/html": [
              "<pre style=\"white-space:pre;overflow-x:auto;line-height:normal;font-family:Menlo,'DejaVu Sans Mono',consolas,'Courier New',monospace\"><span style=\"font-weight: bold\"> Trainable params: </span><span style=\"color: #00af00; text-decoration-color: #00af00\">9,504</span> (37.12 KB)\n",
              "</pre>\n"
            ]
          },
          "metadata": {}
        },
        {
          "output_type": "display_data",
          "data": {
            "text/plain": [
              "\u001b[1m Non-trainable params: \u001b[0m\u001b[38;5;34m0\u001b[0m (0.00 B)\n"
            ],
            "text/html": [
              "<pre style=\"white-space:pre;overflow-x:auto;line-height:normal;font-family:Menlo,'DejaVu Sans Mono',consolas,'Courier New',monospace\"><span style=\"font-weight: bold\"> Non-trainable params: </span><span style=\"color: #00af00; text-decoration-color: #00af00\">0</span> (0.00 B)\n",
              "</pre>\n"
            ]
          },
          "metadata": {}
        },
        {
          "output_type": "stream",
          "name": "stdout",
          "text": [
            "\n",
            "Generating product embeddings using the neural network...\n",
            "\u001b[1m1/1\u001b[0m \u001b[32m━━━━━━━━━━━━━━━━━━━━\u001b[0m\u001b[37m\u001b[0m \u001b[1m0s\u001b[0m 148ms/step\n",
            "Shape of product embeddings matrix: (20, 16)\n",
            "\n",
            "Calculating cosine similarity matrix on embeddings...\n",
            "Shape of the cosine similarity matrix: (20, 20)\n"
          ]
        }
      ],
      "source": [
        "# --- 3. Neural Network Feature Extraction ---\n",
        "# We will now use a neural network to convert the text 'soup' into dense embeddings.\n",
        "\n",
        "# Step 3.1: Tokenization\n",
        "# Convert the text into a sequence of integers.\n",
        "print(\"\\nTokenizing text data...\")\n",
        "tokenizer = Tokenizer(num_words=5000, oov_token=\"<unk>\")\n",
        "tokenizer.fit_on_texts(products_df['soup'])\n",
        "sequences = tokenizer.texts_to_sequences(products_df['soup'])\n",
        "word_index = tokenizer.word_index\n",
        "print(f\"Found {len(word_index)} unique tokens.\")\n",
        "\n",
        "# Step 3.2: Padding\n",
        "# Ensure all sequences have the same length by padding them.\n",
        "print(\"Padding sequences...\")\n",
        "max_length = 100 # We can choose an appropriate max length\n",
        "padded_sequences = pad_sequences(sequences, maxlen=max_length, padding='post', truncating='post')\n",
        "print(\"Shape of padded sequences:\", padded_sequences.shape)\n",
        "\n",
        "# Step 3.3: Build the Embedding Model\n",
        "# We define a simple model to learn embeddings.\n",
        "# This model is not trained in a traditional sense for this task;\n",
        "# we use it to transform our text data into meaningful vectors.\n",
        "vocab_size = len(word_index) + 1\n",
        "embedding_dim = 16 # Dimensionality of the embedding vector\n",
        "\n",
        "input_layer = Input(shape=(max_length,))\n",
        "# The Embedding layer turns positive integers (indexes) into dense vectors of fixed size.\n",
        "embedding_layer = Embedding(input_dim=vocab_size, output_dim=embedding_dim)(input_layer)\n",
        "# GlobalAveragePooling1D averages the embeddings for all words in a product's description\n",
        "# to get a single vector representation for the entire product.\n",
        "pooling_layer = GlobalAveragePooling1D()(embedding_layer)\n",
        "\n",
        "# Create a model that will output the embeddings\n",
        "embedding_model = Model(inputs=input_layer, outputs=pooling_layer)\n",
        "embedding_model.summary()\n",
        "\n",
        "# Step 3.4: Generate Product Embeddings\n",
        "# Use the model to predict (generate) the embeddings for our padded sequences.\n",
        "print(\"\\nGenerating product embeddings using the neural network...\")\n",
        "product_embeddings = embedding_model.predict(padded_sequences)\n",
        "print(\"Shape of product embeddings matrix:\", product_embeddings.shape)\n",
        "\n",
        "\n",
        "# --- 4. Model Training (Cosine Similarity on Embeddings) ---\n",
        "# Compute the cosine similarity between all pairs of product embeddings.\n",
        "print(\"\\nCalculating cosine similarity matrix on embeddings...\")\n",
        "cosine_sim = cosine_similarity(product_embeddings, product_embeddings)\n",
        "print(\"Shape of the cosine similarity matrix:\", cosine_sim.shape)\n",
        "\n",
        "# Create a mapping from product titles to their index in the DataFrame.\n",
        "indices = pd.Series(products_df.index, index=products_df['title']).drop_duplicates()"
      ]
    },
    {
      "cell_type": "code",
      "execution_count": null,
      "metadata": {
        "id": "keSPAjxV7uhu"
      },
      "outputs": [],
      "source": [
        "# --- 5. Recommendation Function ---\n",
        "def get_recommendations(title, cosine_sim=cosine_sim, data=products_df):\n",
        "\n",
        "    if title not in indices.index:\n",
        "        return f\"Product with title '{title}' not found.\"\n",
        "\n",
        "    # Get the index of the product that matches the title.\n",
        "    idx = indices[title]\n",
        "\n",
        "    # Get the pairwise similarity scores of all products with that product.\n",
        "    sim_scores = list(enumerate(cosine_sim[idx]))\n",
        "\n",
        "    # Sort the products based on the similarity scores in descending order.\n",
        "    sim_scores = sorted(sim_scores, key=lambda x: x[1], reverse=True)\n",
        "\n",
        "    # Get the scores of the 10 most similar products. Skip the first one.\n",
        "    sim_scores = sim_scores[1:11]\n",
        "\n",
        "    # Get the product indices from the similarity scores.\n",
        "    product_indices = [i[0] for i in sim_scores]\n",
        "\n",
        "    # Return the titles of the top 10 most similar products.\n",
        "    return data['title'].iloc[product_indices]"
      ]
    },
    {
      "cell_type": "code",
      "execution_count": null,
      "metadata": {
        "colab": {
          "base_uri": "https://localhost:8080/"
        },
        "id": "V6pdx_iW6lQ1",
        "outputId": "0b15b131-d3ec-4e4c-a8a2-b951c1d4111f"
      },
      "outputs": [
        {
          "output_type": "stream",
          "name": "stdout",
          "text": [
            "\n",
            "--- Recommendation Example ---\n",
            "Recommendations for: 'Fjallraven - Foldsack No. 1 Backpack, Fits 15 Laptops'\n",
            "\n",
            "6                            White Gold Plated Princess\n",
            "11    WD 4TB Gaming Drive Works with Playstation 4 P...\n",
            "3                                  Mens Casual Slim Fit\n",
            "7     Pierced Owl Rose Gold Plated Stainless Steel D...\n",
            "4     John Hardy Women's Legends Naga Gold & Silver ...\n",
            "2                                    Mens Cotton Jacket\n",
            "19           DANVOUY Womens T Shirt Casual Cotton Short\n",
            "1                Mens Casual Premium Slim Fit T-Shirts \n",
            "5                          Solid Gold Petite Micropave \n",
            "17          MBJ Women's Solid Short Sleeve Boat Neck V \n",
            "Name: title, dtype: object\n",
            "\n",
            "==============================\n",
            "\n",
            "Recommendations for: 'Solid Gold Petite Micropave '\n",
            "\n",
            "7     Pierced Owl Rose Gold Plated Stainless Steel D...\n",
            "6                            White Gold Plated Princess\n",
            "11    WD 4TB Gaming Drive Works with Playstation 4 P...\n",
            "2                                    Mens Cotton Jacket\n",
            "4     John Hardy Women's Legends Naga Gold & Silver ...\n",
            "3                                  Mens Casual Slim Fit\n",
            "17          MBJ Women's Solid Short Sleeve Boat Neck V \n",
            "0     Fjallraven - Foldsack No. 1 Backpack, Fits 15 ...\n",
            "8     WD 2TB Elements Portable External Hard Drive -...\n",
            "19           DANVOUY Womens T Shirt Casual Cotton Short\n",
            "Name: title, dtype: object\n"
          ]
        }
      ],
      "source": [
        "# --- 6. Example Usage ---\n",
        "print(\"\\n--- Recommendation Example ---\")\n",
        "if not products_df.empty:\n",
        "    example_product_title = products_df['title'][0]\n",
        "    print(f\"Recommendations for: '{example_product_title}'\\n\")\n",
        "    recommendations = get_recommendations(example_product_title)\n",
        "    print(recommendations)\n",
        "\n",
        "    print(\"\\n\" + \"=\"*30 + \"\\n\")\n",
        "    example_product_title_2 = products_df['title'][5]\n",
        "    print(f\"Recommendations for: '{example_product_title_2}'\\n\")\n",
        "    recommendations_2 = get_recommendations(example_product_title_2)\n",
        "    print(recommendations_2)\n",
        "else:\n",
        "    print(\"Cannot generate recommendations because no product data is available.\")\n",
        "\n",
        "# This `else` block was causing the IndentationError\n",
        "# else:\n",
        "#     print(\"\\nScript finished. Could not proceed with model training due to data fetching issues.\")"
      ]
    },
    {
      "cell_type": "code",
      "source": [],
      "metadata": {
        "id": "8fS5yyWNU9b6"
      },
      "execution_count": null,
      "outputs": []
    }
  ],
  "metadata": {
    "colab": {
      "provenance": []
    },
    "kernelspec": {
      "display_name": "Python 3",
      "name": "python3"
    }
  },
  "nbformat": 4,
  "nbformat_minor": 0
}